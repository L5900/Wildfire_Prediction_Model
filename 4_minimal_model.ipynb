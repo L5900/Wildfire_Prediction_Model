{
 "cells": [
  {
   "cell_type": "markdown",
   "id": "12fc0491",
   "metadata": {},
   "source": [
    "## Building some simple models\n",
    "This notebook trains a few baseline models for fire prediction.\n"
   ]
  },
  {
   "cell_type": "markdown",
   "id": "d211cebc",
   "metadata": {},
   "source": [
    "### Library Imports\n",
    "We start by importing the Python libraries we need (and install them on the fly if they are missing).\n"
   ]
  },
  {
   "cell_type": "code",
   "execution_count": 4,
   "id": "457d3b23",
   "metadata": {},
   "outputs": [
    {
     "name": "stdout",
     "output_type": "stream",
     "text": [
      "Intel MKL WARNING: Support of Intel(R) Streaming SIMD Extensions 4.2 (Intel(R) SSE4.2) enabled only processors has been deprecated. Intel oneAPI Math Kernel Library 2025.0 will require Intel(R) Advanced Vector Extensions (Intel(R) AVX) instructions.\n",
      "Intel MKL WARNING: Support of Intel(R) Streaming SIMD Extensions 4.2 (Intel(R) SSE4.2) enabled only processors has been deprecated. Intel oneAPI Math Kernel Library 2025.0 will require Intel(R) Advanced Vector Extensions (Intel(R) AVX) instructions.\n"
     ]
    }
   ],
   "source": [
    "# Core dependencies for baseline models\n",
    "# We use the trick of wrapping the imports in a try/except so missing packages get installed automatically.\n",
    "try:\n",
    "    # Attempt to import everything needed for data handling, modelling, and evaluation.\n",
    "    import pandas as pd\n",
    "    import numpy as np\n",
    "    from pathlib import Path\n",
    "    from IPython.display import display\n",
    "    from sklearn.pipeline import Pipeline\n",
    "    from sklearn.preprocessing import StandardScaler\n",
    "    from sklearn.linear_model import LogisticRegression\n",
    "    from sklearn.neural_network import MLPClassifier\n",
    "    from sklearn.ensemble import RandomForestClassifier\n",
    "    from sklearn.metrics import (\n",
    "        accuracy_score,\n",
    "        precision_score,\n",
    "        recall_score,\n",
    "        f1_score,\n",
    "        classification_report,\n",
    "        confusion_matrix,\n",
    "    )\n",
    "except ModuleNotFoundError:\n",
    "    # If any dependency is missing we install the essentials and then import again.\n",
    "    %pip install -q pandas numpy scikit-learn\n",
    "    # After installation we retry the same imports so the rest of the notebook can use them.\n",
    "    import pandas as pd\n",
    "    import numpy as np\n",
    "    from pathlib import Path\n",
    "    from IPython.display import display\n",
    "    from sklearn.pipeline import Pipeline\n",
    "    from sklearn.preprocessing import StandardScaler\n",
    "    from sklearn.linear_model import LogisticRegression\n",
    "    from sklearn.neural_network import MLPClassifier\n",
    "    from sklearn.ensemble import RandomForestClassifier\n",
    "    from sklearn.metrics import (\n",
    "        accuracy_score,\n",
    "        precision_score,\n",
    "        recall_score,\n",
    "        f1_score,\n",
    "        classification_report,\n",
    "        confusion_matrix,\n",
    "    )\n",
    "\n"
   ]
  },
  {
   "cell_type": "markdown",
   "id": "b4392859",
   "metadata": {},
   "source": [
    "### Preparing the Dataset\n",
    "This cell loads the engineered dataset, checks the required columns such as `lag2` and `data_split`,\n",
    "and creates NumPy arrays for the training, validation, and test periods.\n"
   ]
  },
  {
   "cell_type": "code",
   "execution_count": 5,
   "id": "3383a0f4",
   "metadata": {},
   "outputs": [
    {
     "name": "stdout",
     "output_type": "stream",
     "text": [
      "Train rows: 142,185 across 30 months\n",
      "Validation rows: 26,500 across 6 months\n",
      "Test rows: 52,481 across 13 months\n",
      "Features: ['temp2m_mean_c', 'precip_sum_mm', 'fire_last_month', 'lag2']\n"
     ]
    }
   ],
   "source": [
    "# Load enriched dataset and create train/validation/test splits\n",
    "DATA_PATH = Path('outputs/training_base_enriched_power.csv')\n",
    "# The engineered dataset should already exist; stop early if it does not.\n",
    "if not DATA_PATH.exists():\n",
    "    raise FileNotFoundError(f'Missing dataset: {DATA_PATH}')\n",
    "\n",
    "# Read the full dataset and make sure every expected column is available.\n",
    "df = pd.read_csv(DATA_PATH)\n",
    "required_columns = {\n",
    "    'cell_id',\n",
    "    'month',\n",
    "    'fire_occurred',\n",
    "    'temp2m_mean_c',\n",
    "    'precip_sum_mm',\n",
    "    'fire_last_month',\n",
    "    'lag2',\n",
    "    'data_split',\n",
    "}\n",
    "\n",
    "# These next 3 lines are a gpt trick to show all missing columns in the error message.\n",
    "missing_columns = required_columns.difference(df.columns)\n",
    "if missing_columns:\n",
    "    raise KeyError(f'Missing expected columns: {sorted(missing_columns)}')\n",
    "\n",
    "# Convert the month string into an actual timestamp format, and then we reorder the dataset by cell and time.\n",
    "df['month_dt'] = pd.to_datetime(df['month'])\n",
    "df = df.sort_values(['cell_id', 'month_dt']).reset_index(drop=True)\n",
    "\n",
    "# We give a name to the feature of our model.\n",
    "feature_columns = ['temp2m_mean_c', 'precip_sum_mm', 'fire_last_month', 'lag2']\n",
    "# Empty placeholders avoid shape issues if any split is missing rows.\n",
    "empty_features = np.empty((0, len(feature_columns)), dtype=float)\n",
    "empty_targets = np.empty((0,), dtype=int)\n",
    "\n",
    "split_frames = {}\n",
    "for split in ['train', 'validation', 'test']:\n",
    "    # defines a copy of the dataframe for each split, i.e. a variable that contains \n",
    "    # only the rows for that split.\n",
    "    split_df = df[df['data_split'] == split].copy()\n",
    "    # For safety, we record the empty split and warn the user so later code can skip it safely.\n",
    "    if split_df.empty:\n",
    "        print(f'Warning: {split} split is empty; downstream metrics may be skipped.')\n",
    "        split_frames[split] = {'df': split_df, 'X': empty_features.copy(), 'y': empty_targets.copy()}\n",
    "        continue\n",
    "\n",
    "    # Replace missing feature values with 0 and store tidy NumPy copies for modelling.\n",
    "    split_df.loc[:, feature_columns] = split_df[feature_columns].fillna(0)\n",
    "    split_frames[split] = {\n",
    "        'df': split_df,\n",
    "        'X': split_df[feature_columns].to_numpy(dtype=float), #We transform the features into a numpy array because sklearn works with numpy arrays\n",
    "        'y': split_df['fire_occurred'].astype(int).to_numpy(),\n",
    "    }\n",
    "\n",
    "# Training and test splits must contain data or the rest of the notebook cannot proceed. As a good practise, we \n",
    "# check it here and stop early if either is empty.\n",
    "if split_frames['train']['df'].empty:\n",
    "    raise RuntimeError('Training split is empty; rerun feature engineering to populate data_split.')\n",
    "if split_frames['test']['df'].empty:\n",
    "    raise RuntimeError('Test split is empty; rerun feature engineering to populate data_split.')\n",
    "\n",
    "# Keep convenient copies of the pandas DataFrames for later inspection/plots.\n",
    "train_df = split_frames['train']['df']\n",
    "validation_df = split_frames['validation']['df']\n",
    "test_df = split_frames['test']['df']\n",
    "\n",
    "# NumPy arrays feed directly into scikit-learn estimators.\n",
    "X_train = split_frames['train']['X']\n",
    "y_train = split_frames['train']['y']\n",
    "X_val = split_frames['validation']['X']\n",
    "y_val = split_frames['validation']['y']\n",
    "X_test = split_frames['test']['X']\n",
    "y_test = split_frames['test']['y']\n",
    "\n",
    "# Collect the evaluation arrays so the helper function can loop through them later.\n",
    "evaluation_sets = {}\n",
    "for name in ['validation', 'test']:\n",
    "    split = split_frames.get(name)\n",
    "    if split and split['X'].size:\n",
    "        evaluation_sets[name] = (split['X'], split['y'])\n",
    "\n",
    "# Print a summary so we have an overview of how much data lives in each time period.\n",
    "for name, frame in [('train', train_df), ('validation', validation_df), ('test', test_df)]:\n",
    "    rows = len(frame)\n",
    "    months = frame['month'].nunique() if not frame.empty else 0\n",
    "    print(f\"{name.title()} rows: {rows:,} across {months} months\")\n",
    "\n",
    "print('Features:', feature_columns)\n",
    "\n",
    "# Store tuned thresholds (one per model) so later cells can reuse them in the case we don't want to use the default 0.5.\n",
    "model_thresholds = {}\n",
    "\n"
   ]
  },
  {
   "cell_type": "markdown",
   "id": "2e25b229",
   "metadata": {},
   "source": [
    "### Fitting the models\n",
    "The ```evaluate_model``` function fits a model, optionally tunes a probability threshold on the validation split,\n",
    "and reports metrics for each split.\n"
   ]
  },
  {
   "cell_type": "code",
   "execution_count": 6,
   "id": "da850a5f",
   "metadata": {},
   "outputs": [],
   "source": [
    "# Shared evaluation helper\n",
    "def evaluate_model(name, model, X_train, y_train, *args, tune_threshold=True):\n",
    "    if X_train.size == 0:\n",
    "        raise RuntimeError('Training split has no rows; cannot train model.')\n",
    "\n",
    "    # Backwards-compatible argument handling lets older calls keep working.\n",
    "    evaluation_sets = {}\n",
    "    remaining = list(args)\n",
    "\n",
    "    if remaining:\n",
    "        first = remaining.pop(0)\n",
    "        if isinstance(first, dict):\n",
    "            evaluation_sets.update(first)\n",
    "        else:\n",
    "            if not remaining:\n",
    "                raise TypeError('Expected y_test when passing X_test explicitly.')\n",
    "            X_test_arg = first\n",
    "            y_test_arg = remaining.pop(0)\n",
    "            evaluation_sets['test'] = (X_test_arg, y_test_arg)\n",
    "            if remaining and isinstance(remaining[0], dict):\n",
    "                evaluation_sets.update(remaining.pop(0))\n",
    "\n",
    "    if not evaluation_sets:\n",
    "        evaluation_sets = {}\n",
    "\n",
    "    # Fit the estimator on the training data before measuring performance.\n",
    "    model.fit(X_train, y_train)\n",
    "    metrics = []\n",
    "\n",
    "    supports_proba = hasattr(model, 'predict_proba')\n",
    "    chosen_threshold = 0.5\n",
    "\n",
    "    # Optionally tune the prediction threshold using the validation split to improve F1.\n",
    "    if tune_threshold and supports_proba and 'validation' in evaluation_sets:\n",
    "        X_val, y_val = evaluation_sets['validation']\n",
    "        if X_val.size:\n",
    "            # We blend evenly spaced thresholds with actual score values to cover many possibilities.\n",
    "            val_scores = model.predict_proba(X_val)[:, 1]\n",
    "            candidate_thresholds = np.unique(\n",
    "                np.concatenate([\n",
    "                    np.linspace(0.1, 0.9, 17),\n",
    "                    val_scores,\n",
    "                    [0.5],\n",
    "                ])\n",
    "            )\n",
    "            best_f1 = -1.0\n",
    "            best_threshold = 0.5\n",
    "            for thr in candidate_thresholds:\n",
    "                preds = (val_scores >= thr).astype(int)\n",
    "                score = f1_score(y_val, preds, zero_division=0)\n",
    "                # Prefer improvements, and if scores tie choose the threshold closest to the default 0.5.\n",
    "                if score > best_f1 or (np.isclose(score, best_f1) and abs(thr - 0.5) < abs(best_threshold - 0.5)):\n",
    "                    best_f1 = score\n",
    "                    best_threshold = float(thr)\n",
    "            chosen_threshold = round(best_threshold, 4)\n",
    "            if 'model_thresholds' in globals():\n",
    "                model_thresholds[name] = chosen_threshold\n",
    "    elif 'model_thresholds' in globals() and name in model_thresholds:\n",
    "        chosen_threshold = model_thresholds[name]\n",
    "\n",
    "    # Evaluate on every available split and collect the metrics in a list of dicts.\n",
    "    for split_name, (X_eval, y_eval) in evaluation_sets.items():\n",
    "        if X_eval.size == 0:\n",
    "            print(f\"{name} skipped {split_name} evaluation (empty split).\")\n",
    "            continue\n",
    "\n",
    "        if supports_proba:\n",
    "            scores = model.predict_proba(X_eval)[:, 1]\n",
    "            preds = (scores >= chosen_threshold).astype(int)\n",
    "        else:\n",
    "            scores = None\n",
    "            preds = model.predict(X_eval)\n",
    "\n",
    "        metrics.append({\n",
    "            'model': name,\n",
    "            'split': split_name,\n",
    "            'threshold': chosen_threshold if supports_proba else float('nan'),\n",
    "            'accuracy': accuracy_score(y_eval, preds),\n",
    "            'precision': precision_score(y_eval, preds, zero_division=0),\n",
    "            'recall': recall_score(y_eval, preds, zero_division=0),\n",
    "            'f1': f1_score(y_eval, preds, zero_division=0),\n",
    "        })\n",
    "\n",
    "        print(f\"{name} performance on {split_name} split (threshold={chosen_threshold:.2f}):\")\n",
    "        print(classification_report(y_eval, preds, digits=3, zero_division=0))\n",
    "        cm = confusion_matrix(y_eval, preds)\n",
    "        print('Confusion matrix:', cm)\n",
    "\n",
    "    # Return both the collected metrics and the fitted model so callers can reuse it.\n",
    "    return metrics, model\n",
    "\n",
    "# Global containers reused by subsequent cells.\n",
    "results = []\n",
    "trained_models = {}\n",
    "\n"
   ]
  },
  {
   "cell_type": "markdown",
   "id": "af07b70e",
   "metadata": {},
   "source": [
    "### Logistic Regression Pipeline\n",
    "This section standardises the features and trains a logistic regression model.\n"
   ]
  },
  {
   "cell_type": "code",
   "execution_count": 7,
   "id": "6087a8d9",
   "metadata": {},
   "outputs": [
    {
     "name": "stdout",
     "output_type": "stream",
     "text": [
      "Logistic Regression performance on validation split (threshold=0.61):\n",
      "              precision    recall  f1-score   support\n",
      "\n",
      "           0      0.950     0.934     0.942     18809\n",
      "           1      0.846     0.880     0.863      7691\n",
      "\n",
      "    accuracy                          0.919     26500\n",
      "   macro avg      0.898     0.907     0.902     26500\n",
      "weighted avg      0.920     0.919     0.919     26500\n",
      "\n",
      "Confusion matrix: [[17573  1236]\n",
      " [  920  6771]]\n",
      "Logistic Regression performance on test split (threshold=0.61):\n",
      "              precision    recall  f1-score   support\n",
      "\n",
      "           0      0.938     0.950     0.944     41433\n",
      "           1      0.804     0.764     0.783     11048\n",
      "\n",
      "    accuracy                          0.911     52481\n",
      "   macro avg      0.871     0.857     0.864     52481\n",
      "weighted avg      0.910     0.911     0.910     52481\n",
      "\n",
      "Confusion matrix: [[39372  2061]\n",
      " [ 2611  8437]]\n"
     ]
    }
   ],
   "source": [
    "# Logistic regression (scaled)\n",
    "# Build a Pipeline so scaling and the logistic regression model run together during training.\n",
    "log_reg_pipeline = Pipeline([\n",
    "    ('scaler', StandardScaler()),\n",
    "    ('model', LogisticRegression(\n",
    "        max_iter=1000,\n",
    "        class_weight='balanced',\n",
    "        solver='lbfgs',\n",
    "    )),\n",
    "])\n",
    "\n",
    "# Train, evaluate, and save the fitted model plus its metrics.\n",
    "log_metrics, trained_log_reg = evaluate_model('Logistic Regression', log_reg_pipeline, X_train, y_train, evaluation_sets)\n",
    "results.extend(log_metrics)\n",
    "trained_models['Logistic Regression'] = trained_log_reg\n",
    "\n",
    "if X_test.size:\n",
    "    # Store logistic predictions so we can visualise them later just like the neural network outputs.\n",
    "    log_reg_threshold = model_thresholds.get('Logistic Regression', 0.5)\n",
    "    log_reg_scores = trained_log_reg.predict_proba(X_test)[:, 1]\n",
    "    test_df.loc[:, 'log_reg_pred'] = (log_reg_scores >= log_reg_threshold).astype(int)\n",
    "\n"
   ]
  },
  {
   "cell_type": "markdown",
   "id": "14f8cc4e",
   "metadata": {},
   "source": [
    "### Neural Network Pipeline\n",
    "Here we build a simple neural network classifier, evaluate it, and keep its predictions for later visualisations.\n"
   ]
  },
  {
   "cell_type": "code",
   "execution_count": 8,
   "id": "ec81d7b7",
   "metadata": {},
   "outputs": [
    {
     "name": "stdout",
     "output_type": "stream",
     "text": [
      "Neural Network (MLP) performance on validation split (threshold=0.54):\n",
      "              precision    recall  f1-score   support\n",
      "\n",
      "           0      0.945     0.942     0.944     18809\n",
      "           1      0.859     0.866     0.863      7691\n",
      "\n",
      "    accuracy                          0.920     26500\n",
      "   macro avg      0.902     0.904     0.903     26500\n",
      "weighted avg      0.920     0.920     0.920     26500\n",
      "\n",
      "Confusion matrix: [[17720  1089]\n",
      " [ 1032  6659]]\n",
      "Neural Network (MLP) performance on test split (threshold=0.54):\n",
      "              precision    recall  f1-score   support\n",
      "\n",
      "           0      0.933     0.955     0.944     41433\n",
      "           1      0.814     0.742     0.776     11048\n",
      "\n",
      "    accuracy                          0.910     52481\n",
      "   macro avg      0.873     0.848     0.860     52481\n",
      "weighted avg      0.908     0.910     0.908     52481\n",
      "\n",
      "Confusion matrix: [[39558  1875]\n",
      " [ 2853  8195]]\n"
     ]
    }
   ],
   "source": [
    "# Feed-forward neural network (MLPClassifier)\n",
    "# The neural network also sits inside a Pipeline so inputs are scaled consistently.\n",
    "mlp_pipeline = Pipeline([\n",
    "    ('scaler', StandardScaler()),\n",
    "    ('model', MLPClassifier(\n",
    "        hidden_layer_sizes=(64, 32),\n",
    "        activation='relu',\n",
    "        solver='adam',\n",
    "        random_state=42,\n",
    "        max_iter=500,\n",
    "        early_stopping=True,\n",
    "        n_iter_no_change=10,\n",
    "    )),\n",
    "])\n",
    "\n",
    "mlp_metrics, trained_mlp = evaluate_model('Neural Network (MLP)', mlp_pipeline, X_train, y_train, evaluation_sets)\n",
    "results.extend(mlp_metrics)\n",
    "trained_models['Neural Network (MLP)'] = trained_mlp\n",
    "\n",
    "if X_test.size:\n",
    "    # Convert the neural network probabilities into binary predictions using the tuned threshold.\n",
    "    mlp_threshold = model_thresholds.get('Neural Network (MLP)', 0.5)\n",
    "    mlp_scores = trained_mlp.predict_proba(X_test)[:, 1]\n",
    "    test_df.loc[:, 'mlp_pred'] = (mlp_scores >= mlp_threshold).astype(int)\n",
    "\n"
   ]
  },
  {
   "cell_type": "markdown",
   "id": "f0f13fb8",
   "metadata": {},
   "source": [
    "### Random Forest Baseline\n",
    "This block trains a tree-based ensemble and captures its validation/test metrics.\n"
   ]
  },
  {
   "cell_type": "code",
   "execution_count": 9,
   "id": "f4379d81",
   "metadata": {},
   "outputs": [
    {
     "name": "stdout",
     "output_type": "stream",
     "text": [
      "Random Forest performance on validation split (threshold=0.42):\n",
      "              precision    recall  f1-score   support\n",
      "\n",
      "           0      0.932     0.933     0.933     18809\n",
      "           1      0.837     0.834     0.836      7691\n",
      "\n",
      "    accuracy                          0.905     26500\n",
      "   macro avg      0.885     0.884     0.884     26500\n",
      "weighted avg      0.905     0.905     0.905     26500\n",
      "\n",
      "Confusion matrix: [[17557  1252]\n",
      " [ 1273  6418]]\n",
      "Random Forest performance on test split (threshold=0.42):\n",
      "              precision    recall  f1-score   support\n",
      "\n",
      "           0      0.934     0.916     0.925     41433\n",
      "           1      0.706     0.759     0.731     11048\n",
      "\n",
      "    accuracy                          0.883     52481\n",
      "   macro avg      0.820     0.837     0.828     52481\n",
      "weighted avg      0.886     0.883     0.884     52481\n",
      "\n",
      "Confusion matrix: [[37936  3497]\n",
      " [ 2665  8383]]\n"
     ]
    }
   ],
   "source": [
    "# Random forest baseline\n",
    "# Configure a moderately large forest; `class_weight='balanced_subsample'` handles class imbalance.\n",
    "rf_model = RandomForestClassifier(\n",
    "    n_estimators=300,\n",
    "    max_depth=None,\n",
    "    min_samples_leaf=2,\n",
    "    class_weight='balanced_subsample',\n",
    "    random_state=42,\n",
    "    n_jobs=-1,\n",
    ")\n",
    "\n",
    "rf_metrics, trained_rf = evaluate_model('Random Forest', rf_model, X_train, y_train, evaluation_sets)\n",
    "results.extend(rf_metrics)\n",
    "trained_models['Random Forest'] = trained_rf\n",
    "\n"
   ]
  },
  {
   "cell_type": "markdown",
   "id": "c11bce56",
   "metadata": {},
   "source": [
    "### Comparing Model Performance\n",
    "We gather all the metrics into a single table so it is easy to compare models across splits.\n"
   ]
  },
  {
   "cell_type": "markdown",
   "id": "fb5af60d",
   "metadata": {},
   "source": [
    "### Model metrics at a glance\n",
    "Styled summary of the tuned metrics so we can present them neatly.\n"
   ]
  },
  {
   "cell_type": "code",
   "execution_count": 11,
   "id": "cfb75130",
   "metadata": {},
   "outputs": [
    {
     "ename": "NameError",
     "evalue": "Run the metric aggregation cell before displaying the summary.",
     "output_type": "error",
     "traceback": [
      "\u001b[0;31m---------------------------------------------------------------------------\u001b[0m",
      "\u001b[0;31mNameError\u001b[0m                                 Traceback (most recent call last)",
      "Cell \u001b[0;32mIn[11], line 2\u001b[0m\n\u001b[1;32m      1\u001b[0m \u001b[38;5;28;01mif\u001b[39;00m \u001b[38;5;124m'\u001b[39m\u001b[38;5;124msummary_df\u001b[39m\u001b[38;5;124m'\u001b[39m \u001b[38;5;129;01mnot\u001b[39;00m \u001b[38;5;129;01min\u001b[39;00m \u001b[38;5;28mglobals\u001b[39m():\n\u001b[0;32m----> 2\u001b[0m     \u001b[38;5;28;01mraise\u001b[39;00m \u001b[38;5;167;01mNameError\u001b[39;00m(\u001b[38;5;124m'\u001b[39m\u001b[38;5;124mRun the metric aggregation cell before displaying the summary.\u001b[39m\u001b[38;5;124m'\u001b[39m)\n\u001b[1;32m      4\u001b[0m styled \u001b[38;5;241m=\u001b[39m (\n\u001b[1;32m      5\u001b[0m     summary_df\u001b[38;5;241m.\u001b[39mcopy()\n\u001b[1;32m      6\u001b[0m         \u001b[38;5;241m.\u001b[39msort_values([\u001b[38;5;124m'\u001b[39m\u001b[38;5;124msplit\u001b[39m\u001b[38;5;124m'\u001b[39m, \u001b[38;5;124m'\u001b[39m\u001b[38;5;124mf1\u001b[39m\u001b[38;5;124m'\u001b[39m], ascending\u001b[38;5;241m=\u001b[39m[\u001b[38;5;28;01mTrue\u001b[39;00m, \u001b[38;5;28;01mFalse\u001b[39;00m])\n\u001b[0;32m   (...)\u001b[0m\n\u001b[1;32m     24\u001b[0m         \u001b[38;5;241m.\u001b[39mset_caption(\u001b[38;5;124m'\u001b[39m\u001b[38;5;124mModel metrics by split with tuned thresholds\u001b[39m\u001b[38;5;124m'\u001b[39m)\n\u001b[1;32m     25\u001b[0m )\n\u001b[1;32m     26\u001b[0m styled\n",
      "\u001b[0;31mNameError\u001b[0m: Run the metric aggregation cell before displaying the summary."
     ]
    }
   ],
   "source": [
    "if 'summary_df' not in globals():\n",
    "    raise NameError('Run the metric aggregation cell before displaying the summary.')\n",
    "\n",
    "styled = (\n",
    "    summary_df.copy()\n",
    "        .sort_values(['split', 'f1'], ascending=[True, False])\n",
    "        .rename(columns={\n",
    "            'split': 'Split',\n",
    "            'threshold': 'Threshold',\n",
    "            'accuracy': 'Accuracy',\n",
    "            'precision': 'Precision',\n",
    "            'recall': 'Recall',\n",
    "            'f1': 'F1 Score'\n",
    "        })\n",
    "        .style\n",
    "        .format({\n",
    "            'Threshold': '{:.2f}',\n",
    "            'Accuracy': '{:.3f}',\n",
    "            'Precision': '{:.3f}',\n",
    "            'Recall': '{:.3f}',\n",
    "            'F1 Score': '{:.3f}'\n",
    "        })\n",
    "        .background_gradient(axis=0, subset=['Accuracy', 'Precision', 'Recall', 'F1 Score'], cmap='Greens')\n",
    "        .set_caption('Model metrics by split with tuned thresholds')\n",
    ")\n",
    "styled\n"
   ]
  },
  {
   "cell_type": "code",
   "execution_count": null,
   "id": "1e350212",
   "metadata": {},
   "outputs": [
    {
     "name": "stdout",
     "output_type": "stream",
     "text": [
      "Summary metrics by split (thresholds tuned on validation when available):\n"
     ]
    },
    {
     "data": {
      "text/html": [
       "<style type=\"text/css\">\n",
       "</style>\n",
       "<table id=\"T_1c9a5\">\n",
       "  <thead>\n",
       "    <tr>\n",
       "      <th class=\"blank\" >&nbsp;</th>\n",
       "      <th class=\"blank level0\" >&nbsp;</th>\n",
       "      <th id=\"T_1c9a5_level0_col0\" class=\"col_heading level0 col0\" >threshold</th>\n",
       "      <th id=\"T_1c9a5_level0_col1\" class=\"col_heading level0 col1\" >accuracy</th>\n",
       "      <th id=\"T_1c9a5_level0_col2\" class=\"col_heading level0 col2\" >precision</th>\n",
       "      <th id=\"T_1c9a5_level0_col3\" class=\"col_heading level0 col3\" >recall</th>\n",
       "      <th id=\"T_1c9a5_level0_col4\" class=\"col_heading level0 col4\" >f1</th>\n",
       "    </tr>\n",
       "    <tr>\n",
       "      <th class=\"index_name level0\" >model</th>\n",
       "      <th class=\"index_name level1\" >split</th>\n",
       "      <th class=\"blank col0\" >&nbsp;</th>\n",
       "      <th class=\"blank col1\" >&nbsp;</th>\n",
       "      <th class=\"blank col2\" >&nbsp;</th>\n",
       "      <th class=\"blank col3\" >&nbsp;</th>\n",
       "      <th class=\"blank col4\" >&nbsp;</th>\n",
       "    </tr>\n",
       "  </thead>\n",
       "  <tbody>\n",
       "    <tr>\n",
       "      <th id=\"T_1c9a5_level0_row0\" class=\"row_heading level0 row0\" >Logistic Regression</th>\n",
       "      <th id=\"T_1c9a5_level1_row0\" class=\"row_heading level1 row0\" >test</th>\n",
       "      <td id=\"T_1c9a5_row0_col0\" class=\"data row0 col0\" >0.61</td>\n",
       "      <td id=\"T_1c9a5_row0_col1\" class=\"data row0 col1\" >0.911</td>\n",
       "      <td id=\"T_1c9a5_row0_col2\" class=\"data row0 col2\" >0.804</td>\n",
       "      <td id=\"T_1c9a5_row0_col3\" class=\"data row0 col3\" >0.764</td>\n",
       "      <td id=\"T_1c9a5_row0_col4\" class=\"data row0 col4\" >0.783</td>\n",
       "    </tr>\n",
       "    <tr>\n",
       "      <th id=\"T_1c9a5_level0_row1\" class=\"row_heading level0 row1\" >Neural Network (MLP)</th>\n",
       "      <th id=\"T_1c9a5_level1_row1\" class=\"row_heading level1 row1\" >test</th>\n",
       "      <td id=\"T_1c9a5_row1_col0\" class=\"data row1 col0\" >0.54</td>\n",
       "      <td id=\"T_1c9a5_row1_col1\" class=\"data row1 col1\" >0.910</td>\n",
       "      <td id=\"T_1c9a5_row1_col2\" class=\"data row1 col2\" >0.814</td>\n",
       "      <td id=\"T_1c9a5_row1_col3\" class=\"data row1 col3\" >0.742</td>\n",
       "      <td id=\"T_1c9a5_row1_col4\" class=\"data row1 col4\" >0.776</td>\n",
       "    </tr>\n",
       "    <tr>\n",
       "      <th id=\"T_1c9a5_level0_row2\" class=\"row_heading level0 row2\" >Random Forest</th>\n",
       "      <th id=\"T_1c9a5_level1_row2\" class=\"row_heading level1 row2\" >test</th>\n",
       "      <td id=\"T_1c9a5_row2_col0\" class=\"data row2 col0\" >0.42</td>\n",
       "      <td id=\"T_1c9a5_row2_col1\" class=\"data row2 col1\" >0.883</td>\n",
       "      <td id=\"T_1c9a5_row2_col2\" class=\"data row2 col2\" >0.706</td>\n",
       "      <td id=\"T_1c9a5_row2_col3\" class=\"data row2 col3\" >0.759</td>\n",
       "      <td id=\"T_1c9a5_row2_col4\" class=\"data row2 col4\" >0.731</td>\n",
       "    </tr>\n",
       "    <tr>\n",
       "      <th id=\"T_1c9a5_level0_row3\" class=\"row_heading level0 row3\" >Logistic Regression</th>\n",
       "      <th id=\"T_1c9a5_level1_row3\" class=\"row_heading level1 row3\" >validation</th>\n",
       "      <td id=\"T_1c9a5_row3_col0\" class=\"data row3 col0\" >0.61</td>\n",
       "      <td id=\"T_1c9a5_row3_col1\" class=\"data row3 col1\" >0.919</td>\n",
       "      <td id=\"T_1c9a5_row3_col2\" class=\"data row3 col2\" >0.846</td>\n",
       "      <td id=\"T_1c9a5_row3_col3\" class=\"data row3 col3\" >0.880</td>\n",
       "      <td id=\"T_1c9a5_row3_col4\" class=\"data row3 col4\" >0.863</td>\n",
       "    </tr>\n",
       "    <tr>\n",
       "      <th id=\"T_1c9a5_level0_row4\" class=\"row_heading level0 row4\" >Neural Network (MLP)</th>\n",
       "      <th id=\"T_1c9a5_level1_row4\" class=\"row_heading level1 row4\" >validation</th>\n",
       "      <td id=\"T_1c9a5_row4_col0\" class=\"data row4 col0\" >0.54</td>\n",
       "      <td id=\"T_1c9a5_row4_col1\" class=\"data row4 col1\" >0.920</td>\n",
       "      <td id=\"T_1c9a5_row4_col2\" class=\"data row4 col2\" >0.859</td>\n",
       "      <td id=\"T_1c9a5_row4_col3\" class=\"data row4 col3\" >0.866</td>\n",
       "      <td id=\"T_1c9a5_row4_col4\" class=\"data row4 col4\" >0.863</td>\n",
       "    </tr>\n",
       "    <tr>\n",
       "      <th id=\"T_1c9a5_level0_row5\" class=\"row_heading level0 row5\" >Random Forest</th>\n",
       "      <th id=\"T_1c9a5_level1_row5\" class=\"row_heading level1 row5\" >validation</th>\n",
       "      <td id=\"T_1c9a5_row5_col0\" class=\"data row5 col0\" >0.42</td>\n",
       "      <td id=\"T_1c9a5_row5_col1\" class=\"data row5 col1\" >0.905</td>\n",
       "      <td id=\"T_1c9a5_row5_col2\" class=\"data row5 col2\" >0.837</td>\n",
       "      <td id=\"T_1c9a5_row5_col3\" class=\"data row5 col3\" >0.834</td>\n",
       "      <td id=\"T_1c9a5_row5_col4\" class=\"data row5 col4\" >0.836</td>\n",
       "    </tr>\n",
       "  </tbody>\n",
       "</table>\n"
      ],
      "text/plain": [
       "<pandas.io.formats.style.Styler at 0x14d438810>"
      ]
     },
     "metadata": {},
     "output_type": "display_data"
    }
   ],
   "source": [
    "# Aggregate metrics for easy comparison\n",
    "summary_df = pd.DataFrame(results)\n",
    "if summary_df.empty:\n",
    "    print('No evaluation metrics captured.')\n",
    "else:\n",
    "    # Sort and reformat so the table is easy to read at a glance.\n",
    "    summary_df = summary_df.sort_values(['split', 'f1'], ascending=[True, False])\n",
    "    display_cols = ['threshold', 'accuracy', 'precision', 'recall', 'f1']\n",
    "    missing_cols = [c for c in display_cols if c not in summary_df.columns]\n",
    "    for col in missing_cols:\n",
    "        summary_df[col] = np.nan\n",
    "    summary_df = summary_df[['model', 'split'] + display_cols]\n",
    "    summary_df = summary_df.set_index(['model', 'split'])\n",
    "    print('Summary metrics by split (thresholds tuned on validation when available):')\n",
    "    display(summary_df.style.format({\n",
    "        'threshold': '{:.2f}',\n",
    "        'accuracy': '{:.3f}',\n",
    "        'precision': '{:.3f}',\n",
    "        'recall': '{:.3f}',\n",
    "        'f1': '{:.3f}',\n",
    "    }, na_rep='—'))\n",
    "\n"
   ]
  },
  {
   "cell_type": "markdown",
   "id": "b41a488d",
   "metadata": {},
   "source": [
    "### Monthly Prediction Plot\n",
    "This figure shows how each trained model's predicted probabilities line up with the actual fire rate over time.\n"
   ]
  },
  {
   "cell_type": "code",
   "execution_count": null,
   "id": "d23cd901",
   "metadata": {},
   "outputs": [
    {
     "data": {
      "image/png": "[encoded data removed]",
      "text/plain": [
       "<Figure size 1200x500 with 1 Axes>"
      ]
     },
     "metadata": {},
     "output_type": "display_data"
    }
   ],
   "source": [
    "# Plot model prediction probabilities vs actual fire rate by month\n",
    "import matplotlib.pyplot as plt\n",
    "\n",
    "# Ensure we have test data to plot; otherwise the chart would be meaningless.\n",
    "test_entry = evaluation_sets.get('test')\n",
    "if not test_entry or test_entry[0].size == 0:\n",
    "    raise RuntimeError('Test split is empty; rerun the data preparation cell before plotting.')\n",
    "\n",
    "plot_df = test_df[['month_dt', 'fire_occurred']].copy()\n",
    "plot_df['month_label'] = plot_df['month_dt'].dt.to_period('M').astype(str)\n",
    "monthly_summary = plot_df.groupby('month_label', as_index=False).agg(actual_fires=('fire_occurred', 'mean'))\n",
    "\n",
    "models_for_plot = [\n",
    "    ('Logistic Regression', trained_models.get('Logistic Regression')),\n",
    "    ('Neural Network (MLP)', trained_models.get('Neural Network (MLP)')),\n",
    "    ('Random Forest', trained_models.get('Random Forest')),\n",
    "]\n",
    "\n",
    "# Only keep models that actually ran so we do not try to plot missing results.\n",
    "models_for_plot = [(name, model) for name, model in models_for_plot if model is not None]\n",
    "\n",
    "for name, model in models_for_plot:\n",
    "    # Probability outputs give smoother curves; fall back to predictions for models without predict_proba.\n",
    "    if hasattr(model, 'predict_proba'):\n",
    "        scores = model.predict_proba(X_test)[:, 1]\n",
    "    else:\n",
    "        scores = model.predict(X_test)\n",
    "    tmp = pd.DataFrame({\n",
    "        'month_label': test_df['month_dt'].dt.to_period('M').astype(str).values,\n",
    "        name: scores,\n",
    "    })\n",
    "    tmp = tmp.groupby('month_label', as_index=False).mean()\n",
    "    monthly_summary = monthly_summary.merge(tmp, on='month_label', how='left')\n",
    "\n",
    "plt.figure(figsize=(12, 5))\n",
    "plt.plot(monthly_summary['month_label'], monthly_summary['actual_fires'], marker='o', label='Actual Fire Rate', color='black')\n",
    "for name, _ in models_for_plot:\n",
    "    plt.plot(monthly_summary['month_label'], monthly_summary[name], marker='o', label=name)\n",
    "\n",
    "plt.xticks(rotation=45)\n",
    "plt.ylabel('Mean probability (fires)')\n",
    "plt.title('Monthly Fire Rate vs Model Predictions (Validation-tuned models)')\n",
    "plt.legend()\n",
    "plt.tight_layout()\n",
    "plt.show()\n",
    "\n"
   ]
  },
  {
   "cell_type": "markdown",
   "id": "0be060c4",
   "metadata": {},
   "source": [
    "### Animated Map\n",
    "Finally, we create a side-by-side animation that compares actual fires with the neural network's predictions.\n"
   ]
  },
  {
   "cell_type": "code",
   "execution_count": null,
   "id": "42f3b3d8",
   "metadata": {},
   "outputs": [],
   "source": []
  },
  {
   "cell_type": "code",
   "execution_count": null,
   "id": "cae18f93",
   "metadata": {},
   "outputs": [
    {
     "name": "stderr",
     "output_type": "stream",
     "text": [
      "/var/folders/47/y48y4chs6n5bf9f7rg1d0sjw004z89/T/ipykernel_92230/4116267271.py:92: MatplotlibDeprecationWarning: The tostring_rgb function was deprecated in Matplotlib 3.8 and will be removed in 3.10. Use buffer_rgba instead.\n",
      "  frame = np.frombuffer(fig.canvas.tostring_rgb(), dtype=np.uint8)\n",
      "/var/folders/47/y48y4chs6n5bf9f7rg1d0sjw004z89/T/ipykernel_92230/4116267271.py:92: MatplotlibDeprecationWarning: The tostring_rgb function was deprecated in Matplotlib 3.8 and will be removed in 3.10. Use buffer_rgba instead.\n",
      "  frame = np.frombuffer(fig.canvas.tostring_rgb(), dtype=np.uint8)\n"
     ]
    },
    {
     "name": "stdout",
     "output_type": "stream",
     "text": [
      "Rendered 3/13 months\n"
     ]
    },
    {
     "name": "stderr",
     "output_type": "stream",
     "text": [
      "/var/folders/47/y48y4chs6n5bf9f7rg1d0sjw004z89/T/ipykernel_92230/4116267271.py:92: MatplotlibDeprecationWarning: The tostring_rgb function was deprecated in Matplotlib 3.8 and will be removed in 3.10. Use buffer_rgba instead.\n",
      "  frame = np.frombuffer(fig.canvas.tostring_rgb(), dtype=np.uint8)\n",
      "/var/folders/47/y48y4chs6n5bf9f7rg1d0sjw004z89/T/ipykernel_92230/4116267271.py:92: MatplotlibDeprecationWarning: The tostring_rgb function was deprecated in Matplotlib 3.8 and will be removed in 3.10. Use buffer_rgba instead.\n",
      "  frame = np.frombuffer(fig.canvas.tostring_rgb(), dtype=np.uint8)\n",
      "/var/folders/47/y48y4chs6n5bf9f7rg1d0sjw004z89/T/ipykernel_92230/4116267271.py:92: MatplotlibDeprecationWarning: The tostring_rgb function was deprecated in Matplotlib 3.8 and will be removed in 3.10. Use buffer_rgba instead.\n",
      "  frame = np.frombuffer(fig.canvas.tostring_rgb(), dtype=np.uint8)\n"
     ]
    },
    {
     "name": "stdout",
     "output_type": "stream",
     "text": [
      "Rendered 6/13 months\n"
     ]
    },
    {
     "name": "stderr",
     "output_type": "stream",
     "text": [
      "/var/folders/47/y48y4chs6n5bf9f7rg1d0sjw004z89/T/ipykernel_92230/4116267271.py:92: MatplotlibDeprecationWarning: The tostring_rgb function was deprecated in Matplotlib 3.8 and will be removed in 3.10. Use buffer_rgba instead.\n",
      "  frame = np.frombuffer(fig.canvas.tostring_rgb(), dtype=np.uint8)\n",
      "/var/folders/47/y48y4chs6n5bf9f7rg1d0sjw004z89/T/ipykernel_92230/4116267271.py:92: MatplotlibDeprecationWarning: The tostring_rgb function was deprecated in Matplotlib 3.8 and will be removed in 3.10. Use buffer_rgba instead.\n",
      "  frame = np.frombuffer(fig.canvas.tostring_rgb(), dtype=np.uint8)\n",
      "/var/folders/47/y48y4chs6n5bf9f7rg1d0sjw004z89/T/ipykernel_92230/4116267271.py:92: MatplotlibDeprecationWarning: The tostring_rgb function was deprecated in Matplotlib 3.8 and will be removed in 3.10. Use buffer_rgba instead.\n",
      "  frame = np.frombuffer(fig.canvas.tostring_rgb(), dtype=np.uint8)\n"
     ]
    },
    {
     "name": "stdout",
     "output_type": "stream",
     "text": [
      "Rendered 9/13 months\n"
     ]
    },
    {
     "name": "stderr",
     "output_type": "stream",
     "text": [
      "/var/folders/47/y48y4chs6n5bf9f7rg1d0sjw004z89/T/ipykernel_92230/4116267271.py:92: MatplotlibDeprecationWarning: The tostring_rgb function was deprecated in Matplotlib 3.8 and will be removed in 3.10. Use buffer_rgba instead.\n",
      "  frame = np.frombuffer(fig.canvas.tostring_rgb(), dtype=np.uint8)\n",
      "/var/folders/47/y48y4chs6n5bf9f7rg1d0sjw004z89/T/ipykernel_92230/4116267271.py:92: MatplotlibDeprecationWarning: The tostring_rgb function was deprecated in Matplotlib 3.8 and will be removed in 3.10. Use buffer_rgba instead.\n",
      "  frame = np.frombuffer(fig.canvas.tostring_rgb(), dtype=np.uint8)\n",
      "/var/folders/47/y48y4chs6n5bf9f7rg1d0sjw004z89/T/ipykernel_92230/4116267271.py:92: MatplotlibDeprecationWarning: The tostring_rgb function was deprecated in Matplotlib 3.8 and will be removed in 3.10. Use buffer_rgba instead.\n",
      "  frame = np.frombuffer(fig.canvas.tostring_rgb(), dtype=np.uint8)\n"
     ]
    },
    {
     "name": "stdout",
     "output_type": "stream",
     "text": [
      "Rendered 12/13 months\n"
     ]
    },
    {
     "name": "stderr",
     "output_type": "stream",
     "text": [
      "/var/folders/47/y48y4chs6n5bf9f7rg1d0sjw004z89/T/ipykernel_92230/4116267271.py:92: MatplotlibDeprecationWarning: The tostring_rgb function was deprecated in Matplotlib 3.8 and will be removed in 3.10. Use buffer_rgba instead.\n",
      "  frame = np.frombuffer(fig.canvas.tostring_rgb(), dtype=np.uint8)\n"
     ]
    },
    {
     "name": "stdout",
     "output_type": "stream",
     "text": [
      "Rendered 13/13 months\n"
     ]
    },
    {
     "name": "stderr",
     "output_type": "stream",
     "text": [
      "/var/folders/47/y48y4chs6n5bf9f7rg1d0sjw004z89/T/ipykernel_92230/4116267271.py:92: MatplotlibDeprecationWarning: The tostring_rgb function was deprecated in Matplotlib 3.8 and will be removed in 3.10. Use buffer_rgba instead.\n",
      "  frame = np.frombuffer(fig.canvas.tostring_rgb(), dtype=np.uint8)\n"
     ]
    },
    {
     "name": "stdout",
     "output_type": "stream",
     "text": [
      "Saved neural network actual vs predicted GIF → outputs/squares_nn_actual_vs_pred.gif\n"
     ]
    }
   ],
   "source": [
    "# Neural network predictions vs actual fires (side-by-side GIF)\n",
    "try:\n",
    "    import geopandas as gpd\n",
    "except ModuleNotFoundError:\n",
    "    %pip install -q geopandas\n",
    "    import geopandas as gpd\n",
    "import numpy as np\n",
    "import matplotlib.pyplot as plt\n",
    "import imageio.v2 as imageio\n",
    "from shapely import affinity\n",
    "\n",
    "base_grid_path = Path('data/processed/training_base.geojson')\n",
    "if not base_grid_path.exists():\n",
    "    raise FileNotFoundError(f'Missing grid file: {base_grid_path}')\n",
    "\n",
    "# Double-check that all prerequisites are ready before we generate frames.\n",
    "if test_df.empty:\n",
    "    raise RuntimeError('Test split is empty; rerun the modelling cells before generating the GIF.')\n",
    "\n",
    "mlp_model = trained_models.get('Neural Network (MLP)')\n",
    "if mlp_model is None:\n",
    "    raise RuntimeError('Missing trained MLP model; rerun the neural network cell first.')\n",
    "\n",
    "if 'mlp_pred' not in test_df.columns:\n",
    "    if 'X_test' not in globals() or X_test.size == 0:\n",
    "        raise RuntimeError('Test feature matrix unavailable; rerun the data split cell before drawing the GIF.')\n",
    "    mlp_threshold = model_thresholds.get('Neural Network (MLP)', 0.5)\n",
    "    mlp_scores = mlp_model.predict_proba(X_test)[:, 1]\n",
    "    test_df = test_df.copy()\n",
    "    test_df.loc[:, 'mlp_pred'] = (mlp_scores >= mlp_threshold).astype(int)\n",
    "else:\n",
    "    test_df = test_df.copy()\n",
    "\n",
    "base_grid = gpd.read_file(base_grid_path)[['cell_id', 'geometry']]\n",
    "base_grid['cell_id'] = base_grid['cell_id'].astype(str)\n",
    "\n",
    "test_df['cell_id'] = test_df['cell_id'].astype(str)\n",
    "months = sorted(test_df['month_dt'].unique())\n",
    "if not months:\n",
    "    raise RuntimeError('No monthly slices available to animate.')\n",
    "\n",
    "lon_min, lat_min, lon_max, lat_max = base_grid.total_bounds\n",
    "\n",
    "monthly_layers = {}\n",
    "for month in months:\n",
    "    month_slice = test_df[test_df['month_dt'] == month]\n",
    "    summary = month_slice.groupby('cell_id')[['fire_occurred', 'mlp_pred']].max().reset_index()\n",
    "    month_grid = base_grid.merge(summary, on='cell_id', how='left')\n",
    "    # Fill missing values with zeros so the plotting code can treat them as \"no fire\" cells.\n",
    "    month_grid[['fire_occurred', 'mlp_pred']] = month_grid[['fire_occurred', 'mlp_pred']].fillna(0).astype(int)\n",
    "    monthly_layers[month] = month_grid\n",
    "\n",
    "fig, axes = plt.subplots(1, 2, figsize=(12, 6), sharex=True, sharey=True)\n",
    "actual_color = '#d62728'\n",
    "pred_color = '#1f77b4'\n",
    "shrink_factor = 0.65\n",
    "\n",
    "for ax in axes:\n",
    "    ax.set_xlim(lon_min, lon_max)\n",
    "    ax.set_ylim(lat_min, lat_max)\n",
    "    ax.set_xlabel('Longitude')\n",
    "    ax.set_ylabel('Latitude')\n",
    "    ax.grid(True, linestyle='--', linewidth=0.4, color='#dddddd', alpha=0.8)\n",
    "\n",
    "def _draw_panel(ax, month_grid, column, title, color):\n",
    "    ax.clear()\n",
    "    base_grid.plot(ax=ax, edgecolor='lightgrey', facecolor='none', linewidth=0.25)\n",
    "    active = month_grid[month_grid[column] == 1]\n",
    "    if not active.empty:\n",
    "        # Shrink the coloured squares slightly so the grid lines stay visible.\n",
    "        shrunk = active.copy()\n",
    "        shrunk['geometry'] = shrunk.geometry.apply(lambda geom: affinity.scale(geom, xfact=shrink_factor, yfact=shrink_factor, origin='centroid'))\n",
    "        shrunk.plot(ax=ax, facecolor=color, edgecolor='#333333', linewidth=0.15, alpha=0.9)\n",
    "    ax.set_title(title)\n",
    "    ax.set_xlim(lon_min, lon_max)\n",
    "    ax.set_ylim(lat_min, lat_max)\n",
    "    ax.set_xlabel('Longitude')\n",
    "    ax.set_ylabel('Latitude')\n",
    "    ax.grid(True, linestyle='--', linewidth=0.4, color='#dddddd', alpha=0.8)\n",
    "\n",
    "annotation = fig.suptitle('')\n",
    "count_text = fig.text(0.5, 0.04, '', ha='center', fontsize=10, color='#333333')\n",
    "\n",
    "frames = []\n",
    "for idx, month in enumerate(months, start=1):\n",
    "    month_grid = monthly_layers[month]\n",
    "    label = pd.Timestamp(month).strftime('%Y-%m')\n",
    "    _draw_panel(axes[0], month_grid, 'fire_occurred', 'Actual fires', actual_color)\n",
    "    _draw_panel(axes[1], month_grid, 'mlp_pred', 'NN predicted fires', pred_color)\n",
    "    annotation.set_text(f'Month: {label}')\n",
    "    counts = (int(month_grid['fire_occurred'].sum()), int(month_grid['mlp_pred'].sum()))\n",
    "    count_text.set_text(f'Cells w/ fire: {counts[0]}    |    Cells predicted: {counts[1]}')\n",
    "\n",
    "    fig.canvas.draw()\n",
    "    frame = np.frombuffer(fig.canvas.tostring_rgb(), dtype=np.uint8)\n",
    "    frame = frame.reshape(fig.canvas.get_width_height()[::-1] + (3,))\n",
    "    frames.append(frame)\n",
    "\n",
    "    if idx % 3 == 0 or idx == len(months):\n",
    "        print(f'Rendered {idx}/{len(months)} months', flush=True)\n",
    "\n",
    "plt.close(fig)\n",
    "\n",
    "# Export the animation so it can be shared outside the notebook.\n",
    "gif_out = Path('outputs/squares_nn_actual_vs_pred.gif')\n",
    "gif_out.parent.mkdir(parents=True, exist_ok=True)\n",
    "imageio.mimsave(gif_out, frames, fps=1)\n",
    "print('Saved neural network actual vs predicted GIF →', gif_out)\n",
    "\n"
   ]
  },
  {
   "cell_type": "code",
   "execution_count": null,
   "id": "42c14a84",
   "metadata": {},
   "outputs": [
    {
     "name": "stderr",
     "output_type": "stream",
     "text": [
      "/var/folders/47/y48y4chs6n5bf9f7rg1d0sjw004z89/T/ipykernel_92230/3183653417.py:92: MatplotlibDeprecationWarning: The tostring_rgb function was deprecated in Matplotlib 3.8 and will be removed in 3.10. Use buffer_rgba instead.\n",
      "  frame = np.frombuffer(fig.canvas.tostring_rgb(), dtype=np.uint8)\n",
      "/var/folders/47/y48y4chs6n5bf9f7rg1d0sjw004z89/T/ipykernel_92230/3183653417.py:92: MatplotlibDeprecationWarning: The tostring_rgb function was deprecated in Matplotlib 3.8 and will be removed in 3.10. Use buffer_rgba instead.\n",
      "  frame = np.frombuffer(fig.canvas.tostring_rgb(), dtype=np.uint8)\n"
     ]
    },
    {
     "name": "stdout",
     "output_type": "stream",
     "text": [
      "Rendered 3/13 months\n"
     ]
    },
    {
     "name": "stderr",
     "output_type": "stream",
     "text": [
      "/var/folders/47/y48y4chs6n5bf9f7rg1d0sjw004z89/T/ipykernel_92230/3183653417.py:92: MatplotlibDeprecationWarning: The tostring_rgb function was deprecated in Matplotlib 3.8 and will be removed in 3.10. Use buffer_rgba instead.\n",
      "  frame = np.frombuffer(fig.canvas.tostring_rgb(), dtype=np.uint8)\n",
      "/var/folders/47/y48y4chs6n5bf9f7rg1d0sjw004z89/T/ipykernel_92230/3183653417.py:92: MatplotlibDeprecationWarning: The tostring_rgb function was deprecated in Matplotlib 3.8 and will be removed in 3.10. Use buffer_rgba instead.\n",
      "  frame = np.frombuffer(fig.canvas.tostring_rgb(), dtype=np.uint8)\n",
      "/var/folders/47/y48y4chs6n5bf9f7rg1d0sjw004z89/T/ipykernel_92230/3183653417.py:92: MatplotlibDeprecationWarning: The tostring_rgb function was deprecated in Matplotlib 3.8 and will be removed in 3.10. Use buffer_rgba instead.\n",
      "  frame = np.frombuffer(fig.canvas.tostring_rgb(), dtype=np.uint8)\n"
     ]
    },
    {
     "name": "stdout",
     "output_type": "stream",
     "text": [
      "Rendered 6/13 months\n"
     ]
    },
    {
     "name": "stderr",
     "output_type": "stream",
     "text": [
      "/var/folders/47/y48y4chs6n5bf9f7rg1d0sjw004z89/T/ipykernel_92230/3183653417.py:92: MatplotlibDeprecationWarning: The tostring_rgb function was deprecated in Matplotlib 3.8 and will be removed in 3.10. Use buffer_rgba instead.\n",
      "  frame = np.frombuffer(fig.canvas.tostring_rgb(), dtype=np.uint8)\n",
      "/var/folders/47/y48y4chs6n5bf9f7rg1d0sjw004z89/T/ipykernel_92230/3183653417.py:92: MatplotlibDeprecationWarning: The tostring_rgb function was deprecated in Matplotlib 3.8 and will be removed in 3.10. Use buffer_rgba instead.\n",
      "  frame = np.frombuffer(fig.canvas.tostring_rgb(), dtype=np.uint8)\n",
      "/var/folders/47/y48y4chs6n5bf9f7rg1d0sjw004z89/T/ipykernel_92230/3183653417.py:92: MatplotlibDeprecationWarning: The tostring_rgb function was deprecated in Matplotlib 3.8 and will be removed in 3.10. Use buffer_rgba instead.\n",
      "  frame = np.frombuffer(fig.canvas.tostring_rgb(), dtype=np.uint8)\n"
     ]
    },
    {
     "name": "stdout",
     "output_type": "stream",
     "text": [
      "Rendered 9/13 months\n"
     ]
    },
    {
     "name": "stderr",
     "output_type": "stream",
     "text": [
      "/var/folders/47/y48y4chs6n5bf9f7rg1d0sjw004z89/T/ipykernel_92230/3183653417.py:92: MatplotlibDeprecationWarning: The tostring_rgb function was deprecated in Matplotlib 3.8 and will be removed in 3.10. Use buffer_rgba instead.\n",
      "  frame = np.frombuffer(fig.canvas.tostring_rgb(), dtype=np.uint8)\n",
      "/var/folders/47/y48y4chs6n5bf9f7rg1d0sjw004z89/T/ipykernel_92230/3183653417.py:92: MatplotlibDeprecationWarning: The tostring_rgb function was deprecated in Matplotlib 3.8 and will be removed in 3.10. Use buffer_rgba instead.\n",
      "  frame = np.frombuffer(fig.canvas.tostring_rgb(), dtype=np.uint8)\n",
      "/var/folders/47/y48y4chs6n5bf9f7rg1d0sjw004z89/T/ipykernel_92230/3183653417.py:92: MatplotlibDeprecationWarning: The tostring_rgb function was deprecated in Matplotlib 3.8 and will be removed in 3.10. Use buffer_rgba instead.\n",
      "  frame = np.frombuffer(fig.canvas.tostring_rgb(), dtype=np.uint8)\n"
     ]
    },
    {
     "name": "stdout",
     "output_type": "stream",
     "text": [
      "Rendered 12/13 months\n"
     ]
    },
    {
     "name": "stderr",
     "output_type": "stream",
     "text": [
      "/var/folders/47/y48y4chs6n5bf9f7rg1d0sjw004z89/T/ipykernel_92230/3183653417.py:92: MatplotlibDeprecationWarning: The tostring_rgb function was deprecated in Matplotlib 3.8 and will be removed in 3.10. Use buffer_rgba instead.\n",
      "  frame = np.frombuffer(fig.canvas.tostring_rgb(), dtype=np.uint8)\n"
     ]
    },
    {
     "name": "stdout",
     "output_type": "stream",
     "text": [
      "Rendered 13/13 months\n"
     ]
    },
    {
     "name": "stderr",
     "output_type": "stream",
     "text": [
      "/var/folders/47/y48y4chs6n5bf9f7rg1d0sjw004z89/T/ipykernel_92230/3183653417.py:92: MatplotlibDeprecationWarning: The tostring_rgb function was deprecated in Matplotlib 3.8 and will be removed in 3.10. Use buffer_rgba instead.\n",
      "  frame = np.frombuffer(fig.canvas.tostring_rgb(), dtype=np.uint8)\n"
     ]
    },
    {
     "name": "stdout",
     "output_type": "stream",
     "text": [
      "Saved logistic regression actual vs predicted GIF → outputs/squares_log_reg_actual_vs_pred.gif\n"
     ]
    }
   ],
   "source": [
    "# Logistic regression predictions vs actual fires (side-by-side GIF)\n",
    "try:\n",
    "    import geopandas as gpd\n",
    "except ModuleNotFoundError:\n",
    "    %pip install -q geopandas\n",
    "    import geopandas as gpd\n",
    "import numpy as np\n",
    "import matplotlib.pyplot as plt\n",
    "import imageio.v2 as imageio\n",
    "from shapely import affinity\n",
    "\n",
    "base_grid_path = Path('data/processed/training_base.geojson')\n",
    "if not base_grid_path.exists():\n",
    "    raise FileNotFoundError(f'Missing grid file: {base_grid_path}')\n",
    "\n",
    "if test_df.empty:\n",
    "    raise RuntimeError('Test split is empty; rerun the modelling cells before generating the GIF.')\n",
    "\n",
    "log_model = trained_models.get('Logistic Regression')\n",
    "if log_model is None:\n",
    "    raise RuntimeError('Missing trained logistic regression model; rerun the logistic cell first.')\n",
    "\n",
    "if 'log_reg_pred' not in test_df.columns:\n",
    "    if 'X_test' not in globals() or X_test.size == 0:\n",
    "        raise RuntimeError('Test feature matrix unavailable; rerun the data split cell before drawing the GIF.')\n",
    "    log_threshold = model_thresholds.get('Logistic Regression', 0.5)\n",
    "    log_scores = log_model.predict_proba(X_test)[:, 1]\n",
    "    test_df = test_df.copy()\n",
    "    test_df.loc[:, 'log_reg_pred'] = (log_scores >= log_threshold).astype(int)\n",
    "else:\n",
    "    test_df = test_df.copy()\n",
    "\n",
    "base_grid = gpd.read_file(base_grid_path)[['cell_id', 'geometry']]\n",
    "base_grid['cell_id'] = base_grid['cell_id'].astype(str)\n",
    "\n",
    "test_df['cell_id'] = test_df['cell_id'].astype(str)\n",
    "months = sorted(test_df['month_dt'].unique())\n",
    "if not months:\n",
    "    raise RuntimeError('No monthly slices available to animate.')\n",
    "\n",
    "lon_min, lat_min, lon_max, lat_max = base_grid.total_bounds\n",
    "\n",
    "monthly_layers = {}\n",
    "for month in months:\n",
    "    month_slice = test_df[test_df['month_dt'] == month]\n",
    "    summary = month_slice.groupby('cell_id')[['fire_occurred', 'log_reg_pred']].max().reset_index()\n",
    "    month_grid = base_grid.merge(summary, on='cell_id', how='left')\n",
    "    month_grid[['fire_occurred', 'log_reg_pred']] = month_grid[['fire_occurred', 'log_reg_pred']].fillna(0).astype(int)\n",
    "    monthly_layers[month] = month_grid\n",
    "\n",
    "fig, axes = plt.subplots(1, 2, figsize=(12, 6), sharex=True, sharey=True)\n",
    "actual_color = '#d62728'\n",
    "pred_color = '#ff7f0e'\n",
    "shrink_factor = 0.65\n",
    "\n",
    "for ax in axes:\n",
    "    ax.set_xlim(lon_min, lon_max)\n",
    "    ax.set_ylim(lat_min, lat_max)\n",
    "    ax.set_xlabel('Longitude')\n",
    "    ax.set_ylabel('Latitude')\n",
    "    ax.grid(True, linestyle='--', linewidth=0.4, color='#dddddd', alpha=0.8)\n",
    "\n",
    "def _draw_panel(ax, month_grid, column, title, color):\n",
    "    ax.clear()\n",
    "    base_grid.plot(ax=ax, edgecolor='lightgrey', facecolor='none', linewidth=0.25)\n",
    "    active = month_grid[month_grid[column] == 1]\n",
    "    if not active.empty:\n",
    "        shrunk = active.copy()\n",
    "        shrunk['geometry'] = shrunk.geometry.apply(lambda geom: affinity.scale(geom, xfact=shrink_factor, yfact=shrink_factor, origin='centroid'))\n",
    "        shrunk.plot(ax=ax, facecolor=color, edgecolor='#333333', linewidth=0.15, alpha=0.9)\n",
    "    ax.set_title(title)\n",
    "    ax.set_xlim(lon_min, lon_max)\n",
    "    ax.set_ylim(lat_min, lat_max)\n",
    "    ax.set_xlabel('Longitude')\n",
    "    ax.set_ylabel('Latitude')\n",
    "    ax.grid(True, linestyle='--', linewidth=0.4, color='#dddddd', alpha=0.8)\n",
    "\n",
    "annotation = fig.suptitle('')\n",
    "count_text = fig.text(0.5, 0.04, '', ha='center', fontsize=10, color='#333333')\n",
    "\n",
    "frames = []\n",
    "for idx, month in enumerate(months, start=1):\n",
    "    month_grid = monthly_layers[month]\n",
    "    label = pd.Timestamp(month).strftime('%Y-%m')\n",
    "    _draw_panel(axes[0], month_grid, 'fire_occurred', 'Actual fires', actual_color)\n",
    "    _draw_panel(axes[1], month_grid, 'log_reg_pred', 'Logistic predicted fires', pred_color)\n",
    "    annotation.set_text(f'Month: {label}')\n",
    "    counts = (int(month_grid['fire_occurred'].sum()), int(month_grid['log_reg_pred'].sum()))\n",
    "    count_text.set_text(f'Cells w/ fire: {counts[0]}    |    Cells predicted: {counts[1]}')\n",
    "\n",
    "    fig.canvas.draw()\n",
    "    frame = np.frombuffer(fig.canvas.tostring_rgb(), dtype=np.uint8)\n",
    "    frame = frame.reshape(fig.canvas.get_width_height()[::-1] + (3,))\n",
    "    frames.append(frame)\n",
    "\n",
    "    if idx % 3 == 0 or idx == len(months):\n",
    "        print(f'Rendered {idx}/{len(months)} months', flush=True)\n",
    "\n",
    "plt.close(fig)\n",
    "\n",
    "log_gif_out = Path('outputs/squares_log_reg_actual_vs_pred.gif')\n",
    "log_gif_out.parent.mkdir(parents=True, exist_ok=True)\n",
    "imageio.mimsave(log_gif_out, frames, fps=1)\n",
    "print('Saved logistic regression actual vs predicted GIF →', log_gif_out)\n",
    "\n"
   ]
  },
  {
   "cell_type": "code",
   "execution_count": null,
   "id": "e510f715",
   "metadata": {},
   "outputs": [],
   "source": []
  }
 ],
 "metadata": {
  "kernelspec": {
   "display_name": "base",
   "language": "python",
   "name": "python3"
  },
  "language_info": {
   "codemirror_mode": {
    "name": "ipython",
    "version": 3
   },
   "file_extension": ".py",
   "mimetype": "text/x-python",
   "name": "python",
   "nbconvert_exporter": "python",
   "pygments_lexer": "ipython3",
   "version": "3.11.5"
  }
 },
 "nbformat": 4,
 "nbformat_minor": 5
}
